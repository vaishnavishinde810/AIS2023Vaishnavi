{
 "cells": [
  {
   "cell_type": "markdown",
   "metadata": {},
   "source": [
    "# lambda\n",
    "#A lambda function is a small anonymous function.\n",
    "#A lambda function can take any number of arguments, but can only have one expression.\n",
    "#Lambda function mainly used to create a function without a name\n",
    "#It is mainly used with filter() and map() functions."
   ]
  },
  {
   "cell_type": "code",
   "execution_count": 3,
   "metadata": {},
   "outputs": [],
   "source": [
    "mul=lambda a,b:a*b\n",
    "add=lambda c,d:c+d\n",
    "sub=lambda e,f:e-f\n",
    "sqa=lambda g,h:g**h"
   ]
  },
  {
   "cell_type": "code",
   "execution_count": 4,
   "metadata": {},
   "outputs": [
    {
     "data": {
      "text/plain": [
       "9"
      ]
     },
     "execution_count": 4,
     "metadata": {},
     "output_type": "execute_result"
    }
   ],
   "source": [
    "add(4,5)"
   ]
  },
  {
   "cell_type": "code",
   "execution_count": 5,
   "metadata": {},
   "outputs": [
    {
     "data": {
      "text/plain": [
       "84"
      ]
     },
     "execution_count": 5,
     "metadata": {},
     "output_type": "execute_result"
    }
   ],
   "source": [
    "sub(89,5)"
   ]
  },
  {
   "cell_type": "code",
   "execution_count": 6,
   "metadata": {},
   "outputs": [
    {
     "data": {
      "text/plain": [
       "20"
      ]
     },
     "execution_count": 6,
     "metadata": {},
     "output_type": "execute_result"
    }
   ],
   "source": [
    "mul(4,5)"
   ]
  },
  {
   "cell_type": "code",
   "execution_count": 7,
   "metadata": {},
   "outputs": [
    {
     "data": {
      "text/plain": [
       "25"
      ]
     },
     "execution_count": 7,
     "metadata": {},
     "output_type": "execute_result"
    }
   ],
   "source": [
    "sqa(5,2)"
   ]
  },
  {
   "cell_type": "markdown",
   "metadata": {},
   "source": [
    "# map\n",
    "#The map() function executes a specified function for each item in an iterable.\n",
    "#The item is sent to the function as a parameter.\n",
    "\n"
   ]
  },
  {
   "cell_type": "code",
   "execution_count": 8,
   "metadata": {},
   "outputs": [
    {
     "name": "stdout",
     "output_type": "stream",
     "text": [
      "<map object at 0x000001688D0BF688>\n"
     ]
    }
   ],
   "source": [
    "def myfunc(a, b):\n",
    "  return a + b\n",
    "\n",
    "x = map(myfunc, ('vaishnavi', 'karuna', 'pratima','supriya'), ('shinde', 'pol', 'kokane','babar'))\n",
    "print(x)\n"
   ]
  },
  {
   "cell_type": "code",
   "execution_count": 9,
   "metadata": {},
   "outputs": [
    {
     "name": "stdout",
     "output_type": "stream",
     "text": [
      "['vaishnavishinde', 'karunapol', 'pratimakokane', 'supriyababar']\n"
     ]
    }
   ],
   "source": [
    "print(list(x))"
   ]
  },
  {
   "cell_type": "code",
   "execution_count": 10,
   "metadata": {},
   "outputs": [
    {
     "name": "stdout",
     "output_type": "stream",
     "text": [
      "[59, 47, 125]\n"
     ]
    }
   ],
   "source": [
    "# Add two lists\n",
    "l1 = [14, 22, 63]\n",
    "l2 = [45, 25, 62]\n",
    " \n",
    "result = map(lambda x, y: x + y, l1, l2)\n",
    "print(list(result))"
   ]
  },
  {
   "cell_type": "code",
   "execution_count": 11,
   "metadata": {},
   "outputs": [
    {
     "name": "stdout",
     "output_type": "stream",
     "text": [
      "[['v', 'a', 'i', 's', 'h', 'n', 'a', 'v', 'i']]\n"
     ]
    }
   ],
   "source": [
    "# List of strings\n",
    "l = ['vaishnavi']\n",
    "\n",
    "name = list(map(list, l))\n",
    "print(name)"
   ]
  },
  {
   "cell_type": "code",
   "execution_count": 12,
   "metadata": {},
   "outputs": [
    {
     "name": "stdout",
     "output_type": "stream",
     "text": [
      "[['v', 'a', 'i', 's', 'h', 'n', 'a', 'v', 'i'], ['s', 'h', 'i', 'n', 'd', 'e'], ['k', 'a', 'r', 'a', 'd']]\n"
     ]
    }
   ],
   "source": [
    "l = ['vaishnavi','shinde','karad']\n",
    "\n",
    "name = list(map(list, l))\n",
    "print(name)"
   ]
  },
  {
   "cell_type": "markdown",
   "metadata": {},
   "source": [
    "# format\n",
    "#The format() method formats the specified value(s) and insert them inside the string's placeholder.\n",
    "#The placeholder is defined using curly brackets: {}"
   ]
  },
  {
   "cell_type": "code",
   "execution_count": 13,
   "metadata": {},
   "outputs": [
    {
     "name": "stdout",
     "output_type": "stream",
     "text": [
      "My name is vaishnavi, I'm 22\n",
      "My name is vaishnavi, I'm 22\n",
      "My name is vaishnavi, I'm 22\n"
     ]
    }
   ],
   "source": [
    "t1 = \"My name is {name}, I'm {age}\".format(name = \"vaishnavi\", age = 22)\n",
    "t2 = \"My name is {0}, I'm {1}\".format(\"vaishnavi\",22)\n",
    "t3 = \"My name is {}, I'm {}\".format(\"vaishnavi\",22)\n",
    "print(t1)\n",
    "print(t2)\n",
    "print(t3)\n"
   ]
  },
  {
   "cell_type": "markdown",
   "metadata": {},
   "source": [
    "# filter\n",
    "#Filter() is used to create a list of elements for which a function returns “True”."
   ]
  },
  {
   "cell_type": "code",
   "execution_count": 14,
   "metadata": {},
   "outputs": [
    {
     "name": "stdout",
     "output_type": "stream",
     "text": [
      "[12, 54, 102, 50, 70, 8]\n"
     ]
    }
   ],
   "source": [
    "my_list = [12, 65, 54, 39, 102, 339, 221, 50, 70, 8]\n",
    "  \n",
    "result = list(filter(lambda x: (x % 2 == 0), my_list)) \n",
    "\n",
    "print(result) "
   ]
  },
  {
   "cell_type": "code",
   "execution_count": 17,
   "metadata": {},
   "outputs": [
    {
     "name": "stdout",
     "output_type": "stream",
     "text": [
      "[65, 39, 339, 221]\n"
     ]
    }
   ],
   "source": [
    "result = list(filter(lambda x: (x % 2 == 1), my_list)) \n",
    "print(result) "
   ]
  },
  {
   "cell_type": "code",
   "execution_count": 23,
   "metadata": {},
   "outputs": [
    {
     "name": "stdout",
     "output_type": "stream",
     "text": [
      "[65, 54, 102, 339, 221, 50, 70]\n"
     ]
    }
   ],
   "source": [
    "result = list(filter(lambda x: (x >= 50), my_list)) \n",
    "print(result) "
   ]
  },
  {
   "cell_type": "code",
   "execution_count": 15,
   "metadata": {},
   "outputs": [
    {
     "name": "stdout",
     "output_type": "stream",
     "text": [
      "['v', 'i', 's', 'h', 'n', 'v', 'i']\n"
     ]
    }
   ],
   "source": [
    "myname = ['v','a','i','s','h','n','a','v','i']\n",
    "result = list(filter(lambda x: x!='a' , myname))\n",
    "\n",
    "print(result)\n"
   ]
  },
  {
   "cell_type": "markdown",
   "metadata": {},
   "source": [
    "# user defined function"
   ]
  },
  {
   "cell_type": "code",
   "execution_count": 25,
   "metadata": {},
   "outputs": [
    {
     "name": "stdout",
     "output_type": "stream",
     "text": [
      "vaishnavi\n"
     ]
    }
   ],
   "source": [
    "def function():\n",
    "    print(\"vaishnavi\")\n",
    "function()"
   ]
  },
  {
   "cell_type": "code",
   "execution_count": 1,
   "metadata": {},
   "outputs": [
    {
     "name": "stdout",
     "output_type": "stream",
     "text": [
      "the sum is: 837\n"
     ]
    }
   ],
   "source": [
    "def add(a,b,c):\n",
    "    sum=a+b+c;\n",
    "    return sum;\n",
    "print(\"the sum is:\",add(156,675,6))"
   ]
  }
 ],
 "metadata": {
  "kernelspec": {
   "display_name": "Python 3",
   "language": "python",
   "name": "python3"
  },
  "language_info": {
   "codemirror_mode": {
    "name": "ipython",
    "version": 3
   },
   "file_extension": ".py",
   "mimetype": "text/x-python",
   "name": "python",
   "nbconvert_exporter": "python",
   "pygments_lexer": "ipython3",
   "version": "3.7.4"
  }
 },
 "nbformat": 4,
 "nbformat_minor": 2
}
